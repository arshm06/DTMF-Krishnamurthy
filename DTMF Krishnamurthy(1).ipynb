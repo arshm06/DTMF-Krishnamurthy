{
 "cells": [
  {
   "cell_type": "markdown",
   "id": "1b2a362f",
   "metadata": {},
   "source": [
    "What are DTMF signals? \n",
    "Whenever making a phone call, we utilize these dual-tone multi-frequency signals in order to transmit the digits pressed on the telephone keypad. Each digit corresponds to a unique pair of two associated frequencies which are then combined to form a sinusoidal waveform."
   ]
  },
  {
   "cell_type": "markdown",
   "id": "a69630f4",
   "metadata": {},
   "source": [
    "What is our goal?\n",
    "Our goal is to compare two potential decoding methods that detect the digit based on a frequency waveform. \n",
    "The first is the traditional method which utilizes fourier transfers, called Welch’s method.\n",
    "The second will be a deep learning model that utilizes neural networks to estimate the digit. "
   ]
  },
  {
   "cell_type": "markdown",
   "id": "20e36609",
   "metadata": {},
   "source": [
    "Before that, however, we must write code that generates these signals. \n",
    "Furthermore, in order to evaluate how accurate these two methods are, we will add random noise to the generated signals."
   ]
  },
  {
   "cell_type": "markdown",
   "id": "05288b5d",
   "metadata": {},
   "source": [
    " "
   ]
  },
  {
   "cell_type": "markdown",
   "id": "eff68330",
   "metadata": {},
   "source": [
    "We begin by importing all necessary libraries."
   ]
  },
  {
   "cell_type": "code",
   "execution_count": 1,
   "id": "bfa4606e",
   "metadata": {},
   "outputs": [],
   "source": [
    "import numpy as np\n",
    "import scipy.signal as signal\n",
    "import matplotlib.pyplot as plt\n",
    "import pandas as pd\n",
    "import os\n",
    "from scipy.io.wavfile import write"
   ]
  },
  {
   "cell_type": "markdown",
   "id": "8e7c8575",
   "metadata": {},
   "source": [
    " "
   ]
  },
  {
   "cell_type": "markdown",
   "id": "96b84726",
   "metadata": {},
   "source": [
    "Define important variables"
   ]
  },
  {
   "cell_type": "markdown",
   "id": "1ab9c99a",
   "metadata": {},
   "source": [
    "We define global variables that are called by the subsequent functions. PHONE_NUMBER represents the sequence of digits that are being used to generate the waveform. dtmf_table_freq is a dictionary that consists the corresponding frequencies to a digit and will be used when decoding the signals. Once we’ve identified the two frequencies used to generate the signal, we can easily identify the digit. Lastly, we define indexes which will be used later in creating the confusion matrix."
   ]
  },
  {
   "cell_type": "code",
   "execution_count": 2,
   "id": "19ca1950",
   "metadata": {},
   "outputs": [],
   "source": [
    "PHONE_NUMBER = \"123A456B789C*0#D\"\n",
    "\n",
    "\n",
    "dtmf_table_freq = {\n",
    "    (1209, 697): \"1\",\n",
    "    (1336, 697): \"2\",\n",
    "    (1477, 697): \"3\",\n",
    "    (1633, 697): \"A\",\n",
    "    (1209, 770): \"4\",\n",
    "    (1336, 770): \"5\",\n",
    "    (1477, 770): \"6\",\n",
    "    (1633, 770): \"B\",\n",
    "    (1209, 852): \"7\",\n",
    "    (1336, 852): \"8\",\n",
    "    (1477, 852): \"9\",\n",
    "    (1633, 852): \"C\",\n",
    "    (1209, 941): \"*\",\n",
    "    (1336, 941): \"0\",\n",
    "    (1477, 941): \"#\",\n",
    "    (1633, 941): \"D\",\n",
    "}\n",
    "\n",
    "indexes = {\n",
    "    '1' : 0,\n",
    "    '2' : 1,\n",
    "    '3' : 2,\n",
    "    '4' : 3,\n",
    "    '5' : 4,\n",
    "    '6' : 5,\n",
    "    '7' : 6,\n",
    "    '8' : 7,\n",
    "    '9' : 8,\n",
    "    '0' : 9,\n",
    "    'A' : 10,\n",
    "    'B' : 11,\n",
    "    'C' : 12,\n",
    "    'D' : 13,\n",
    "    '#' : 14,\n",
    "    '*' : 15,\n",
    "}"
   ]
  },
  {
   "cell_type": "markdown",
   "id": "e86654ea",
   "metadata": {},
   "source": [
    " "
   ]
  },
  {
   "cell_type": "markdown",
   "id": "1a6ff060",
   "metadata": {},
   "source": [
    "Our first function is used to generate DTMF signals based on a list of digits. It returns a numpy array for the values of the corresponding waveform. Duration represents the amount of time (ms) each digit should last for, gap represents the time between each digit, sampling_rate represents the amount of times we calculate the value of the function per second, amplitude represents the scale of the y-axis, and mean and standard deviation are used for generating the random noise. After using the dtmf_table to determine the two frequencies for the digit, we calculate how many samples we must make and use this knowledge to determine the waveform values for each digit. Finally, we concatenate the waveforms for each digit and add random noise based upon a mean and standard deviation. The noise is generated according to a normal distribution."
   ]
  },
  {
   "cell_type": "code",
   "execution_count": 3,
   "id": "d88bcc03",
   "metadata": {},
   "outputs": [],
   "source": [
    "def waveform(phone_num, duration=100, gap=50, sampling_rate=8000, amplitude=1, graphic=False, mean=0, standard_deviation=0):\n",
    "    '''Returns numpy array for the values of the corresponding waveform.\n",
    "    There's also a 'graphic' option to include a graph.'''\n",
    "    dtmf_table = {\n",
    "        \"1\": [1209, 697],\n",
    "        \"2\": [1336, 697],\n",
    "        \"3\": [1477, 697],\n",
    "        \"A\": [1633, 697],\n",
    "        \"4\": [1209, 770],\n",
    "        \"5\": [1336, 770],\n",
    "        \"6\": [1477, 770],\n",
    "        \"B\": [1633, 770],\n",
    "        \"7\": [1209, 852],\n",
    "        \"8\": [1336, 852],\n",
    "        \"9\": [1477, 852],\n",
    "        \"C\": [1633, 852],\n",
    "        \"*\": [1209, 941],\n",
    "        \"0\": [1336, 941],\n",
    "        \"#\": [1477, 941],\n",
    "        \"D\": [1633, 941],\n",
    "    }\n",
    "    phone_num = phone_num.upper()\n",
    "    for digit in phone_num:\n",
    "        if digit not in dtmf_table:\n",
    "            raise ValueError('The only allowed digits are 0-9, A-D, #, and *')\n",
    "\n",
    "    gap_amount_of_samples = gap * sampling_rate // 1000\n",
    "    gap_values = np.zeros(gap_amount_of_samples)\n",
    "\n",
    "    first = True\n",
    "    ans = np.array([])\n",
    "    amount_of_samples = (duration/1000)*sampling_rate\n",
    "    samples = np.arange(0, duration/1000, (duration/1000)/amount_of_samples)\n",
    "    for digit in phone_num:\n",
    "        if not first:\n",
    "            ans = np.append(ans, gap_values)\n",
    "        else:\n",
    "            first = False\n",
    "        values = (amplitude/2) * (\n",
    "                np.sin(samples * 2 * np.pi * dtmf_table[digit][0]) +\n",
    "                np.sin(samples * 2 * np.pi * dtmf_table[digit][1])\n",
    "        )\n",
    "        ans = np.append(ans, values)\n",
    "    # plotting\n",
    "    if graphic:\n",
    "        plt.title(\"Line graph\")\n",
    "        plt.xlabel(\"X axis\")\n",
    "        plt.ylabel(\"Y axis\")\n",
    "        plt.plot(np.arange(0, (len(phone_num)-1)*gap_amount_of_samples+len(phone_num)*amount_of_samples), ans, color=\"green\")\n",
    "        plt.show()\n",
    "    ans = ans + np.random.normal(mean, standard_deviation, len(ans))\n",
    "\n",
    "    return ans"
   ]
  },
  {
   "cell_type": "markdown",
   "id": "4091e677",
   "metadata": {},
   "source": [
    " "
   ]
  },
  {
   "cell_type": "markdown",
   "id": "04b65474",
   "metadata": {},
   "source": [
    "Here we define a function which calls Welch’s method. Welch’s method returns an average periodogram over time. The peaks in the periodogram represent the two frequencies used to generate the signal. Furthemore, the periodograms are calculated using a discrete fourier transform, which is used to calculate a frequency of a sinusoidal function."
   ]
  },
  {
   "cell_type": "code",
   "execution_count": 4,
   "id": "84580f24",
   "metadata": {},
   "outputs": [],
   "source": [
    "def welch(waveform, fs):\n",
    "    f, Pwelch_spec = signal.welch(waveform, fs, scaling='spectrum')\n",
    "    #plt.semilogy(f, Pwelch_spec)\n",
    "    #plt.xlabel('frequency [Hz]')\n",
    "    #plt.ylabel('PSD')\n",
    "    #plt.grid()\n",
    "    #plt.show()\n",
    "    return [f, Pwelch_spec]"
   ]
  },
  {
   "cell_type": "markdown",
   "id": "5b94ee07",
   "metadata": {},
   "source": [
    " "
   ]
  },
  {
   "cell_type": "markdown",
   "id": "25dcc357",
   "metadata": {},
   "source": [
    "Function to closest frequency"
   ]
  },
  {
   "cell_type": "code",
   "execution_count": 5,
   "id": "aa890fe8",
   "metadata": {},
   "outputs": [],
   "source": [
    "def closest(lst, K):\n",
    "    return lst[min(range(len(lst)), key=lambda i: abs(lst[i] - K))]"
   ]
  },
  {
   "cell_type": "markdown",
   "id": "9e9c73ac",
   "metadata": {},
   "source": [
    " "
   ]
  },
  {
   "cell_type": "markdown",
   "id": "9de10256",
   "metadata": {},
   "source": [
    "Each periodogram has two peaks, and these two peaks can tell us what the frequencies are. Based on the frequencies, we can figure out the digit. In this example, we assume a clean periodogram with no noise, thus the 100% accuracy. Since the frequencies read on the periodogram have some error, we use the closest function to predict the digit."
   ]
  },
  {
   "cell_type": "code",
   "execution_count": 6,
   "id": "85d0a9e6",
   "metadata": {},
   "outputs": [],
   "source": [
    "def frequencies(f, pwelch_spec):\n",
    "    low_dict = {}\n",
    "    high_dict = {}\n",
    "    for i in range(len(f)):\n",
    "      if f[i] < 1050:\n",
    "        low_dict[pwelch_spec[i]] = f[i]\n",
    "      elif f[i] < 1800:\n",
    "        high_dict[pwelch_spec[i]] = f[i]\n",
    "\n",
    "    low_range = list(low_dict.keys())\n",
    "    high_range = list(high_dict.keys())\n",
    "    low_freq = low_dict[max(low_range)]\n",
    "    high_freq = high_dict[max(high_range)]\n",
    "    lows = [697, 770, 852, 941]\n",
    "    highs = [1209, 1336, 1477, 1633]\n",
    "    return dtmf_table_freq[(closest(highs, high_freq), closest(lows, low_freq))]"
   ]
  },
  {
   "cell_type": "markdown",
   "id": "06942027",
   "metadata": {},
   "source": [
    " "
   ]
  },
  {
   "cell_type": "markdown",
   "id": "caa3921c",
   "metadata": {},
   "source": [
    "Adds noise and attempts to find digit based on periodogram. Uses a confusion matrix to map out accuracy based on standard deviation. (Under progress)"
   ]
  },
  {
   "cell_type": "code",
   "execution_count": 7,
   "id": "e695eeb5",
   "metadata": {},
   "outputs": [
    {
     "name": "stdout",
     "output_type": "stream",
     "text": [
      "1.8\n",
      "2.34\n",
      "2.88\n",
      "3.42\n",
      "3.96\n",
      "4.5\n"
     ]
    }
   ],
   "source": [
    "PHONE_NUMBER = \"1234567890ABCD#*\"\n",
    "for standard_deviation in range(180,504,54):\n",
    "    standard_deviation = standard_deviation/100\n",
    "    confusionMatrix = np.zeros(256).reshape(16,16)\n",
    "    names = [_ for _ in '1234567890ABCD#*']\n",
    "    for digit in PHONE_NUMBER:\n",
    "        i = 1\n",
    "        while i <= 10:\n",
    "            temp = (2^10)*waveform(digit, standard_deviation=standard_deviation)\n",
    "            if not os.path.isdir(\"Training data/\" + str(standard_deviation)):\n",
    "                os.mkdir(\"Training data/\" + str(standard_deviation))\n",
    "            write(\"Training data/\"+str(standard_deviation)+\"/\"+str(i)+\".wav\",8000,temp.astype(np.int16))\n",
    "            temp1 = welch(temp, 8000)\n",
    "            guess = frequencies(temp1[0], temp1[1])\n",
    "            confusionMatrix[indexes[digit]][indexes[guess]] += 1\n",
    "            i += 1\n",
    "    df = pd.DataFrame(confusionMatrix, index=names, columns=names)\n",
    "    df.to_csv('std_dev' + str(standard_deviation) + '.csv', index=True, header=True, sep=',')\n",
    "    print(standard_deviation)"
   ]
  },
  {
   "cell_type": "code",
   "execution_count": null,
   "id": "3dc75203",
   "metadata": {},
   "outputs": [],
   "source": []
  }
 ],
 "metadata": {
  "kernelspec": {
   "display_name": "Python 3",
   "language": "python",
   "name": "python3"
  },
  "language_info": {
   "codemirror_mode": {
    "name": "ipython",
    "version": 3
   },
   "file_extension": ".py",
   "mimetype": "text/x-python",
   "name": "python",
   "nbconvert_exporter": "python",
   "pygments_lexer": "ipython3",
   "version": "3.8.8"
  }
 },
 "nbformat": 4,
 "nbformat_minor": 5
}
